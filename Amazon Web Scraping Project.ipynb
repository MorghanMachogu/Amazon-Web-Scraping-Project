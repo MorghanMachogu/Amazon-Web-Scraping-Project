{
 "cells": [
  {
   "cell_type": "code",
   "execution_count": 28,
   "id": "f4588658-c700-4c00-8c4b-7e47934e8e53",
   "metadata": {},
   "outputs": [],
   "source": [
    "# import libraries \n",
    "\n",
    "from bs4 import BeautifulSoup\n",
    "import requests\n",
    "import time\n",
    "from datetime import datetime\n",
    "\n",
    "import smtplib"
   ]
  },
  {
   "cell_type": "code",
   "execution_count": 29,
   "id": "a4170864-9a57-470e-8f19-0835a4a94110",
   "metadata": {},
   "outputs": [
    {
     "name": "stdout",
     "output_type": "stream",
     "text": [
      "Funny Got Data MIS Data Systems Business Analyst T-Shirt\n",
      "$16.99\n",
      "                   \n",
      "\n",
      "\n",
      "\n",
      "\n",
      "\n",
      "                      $\n",
      "                     \n",
      "\n",
      "                      16\n",
      "                      \n",
      "                       .\n",
      "                      \n",
      "\n",
      "\n",
      "                      99\n"
     ]
    }
   ],
   "source": [
    "\n",
    "URL = 'https://www.amazon.com/Funny-Data-Systems-Business-Analyst/dp/B07FNW9FGJ'\n",
    "\n",
    "headers = {\"User-Agent\": \"Mozilla/5.0 (Windows NT 10.0; Win64; x64) AppleWebKit/537.36 (KHTML, like Gecko) Chrome/125.0.0.0 Safari/537.36\", \"Accept-Encoding\":\"gzip, deflate\", \"Accept\":\"text/html,application/xhtml+xml,application/xml;q=0.9,*/*;q=0.8\", \"DNT\":\"1\",\"Connection\":\"close\", \"Upgrade-Insecure-Requests\":\"1\"}\n",
    "\n",
    "page = requests.get(URL, headers=headers)\n",
    "\n",
    "soup1 = BeautifulSoup(page.content, \"html.parser\")\n",
    "\n",
    "soup2 = BeautifulSoup(soup1.prettify(), \"html.parser\")\n",
    "\n",
    "title = soup2.find(id='productTitle').get_text().strip()\n",
    "\n",
    "try:\n",
    "    price = soup2.find(id='corePriceDisplay_desktop_feature_div').get_text().strip()\n",
    "except AttributeError:\n",
    "    price = \"Price not found\"\n",
    "\n",
    "\n",
    "print(title)\n",
    "print(price)"
   ]
  },
  {
   "cell_type": "code",
   "execution_count": 30,
   "id": "8b9e9ea2-4b7a-47c2-bb5f-2ce31907748d",
   "metadata": {},
   "outputs": [
    {
     "name": "stdout",
     "output_type": "stream",
     "text": [
      "Funny Got Data MIS Data Systems Business Analyst T-Shirt\n",
      "$16.99\n"
     ]
    }
   ],
   "source": [
    "import re\n",
    "# Clean up the data a little bit\n",
    "\n",
    "# Clean up title\n",
    "title = title.strip()\n",
    "\n",
    "# Clean up price\n",
    "price = price.strip().replace('\\n', '').replace(' ', '').replace('$', '')\n",
    "\n",
    "# If the price is split into parts, you can join them together\n",
    "price = f\"${price}\"\n",
    "\n",
    "# Extract the first occurrence of the price using regex\n",
    "price_match = re.search(r'\\d+\\.\\d+', price)\n",
    "if price_match:\n",
    "    price = float(price_match.group())\n",
    "    price = f\"${price:.2f}\"\n",
    "else:\n",
    "    price = \"Price not found\"\n",
    "\n",
    "\n",
    "print(title)\n",
    "print(price)"
   ]
  },
  {
   "cell_type": "code",
   "execution_count": 31,
   "id": "c18b0d2c-f1d7-409d-80f5-449cfe88f2cd",
   "metadata": {},
   "outputs": [
    {
     "name": "stdout",
     "output_type": "stream",
     "text": [
      "Current Working Directory: C:\\Users\\uset\n",
      "CSV file saved successfully.\n"
     ]
    }
   ],
   "source": [
    "import csv \n",
    "import os\n",
    "from datetime import datetime\n",
    "\n",
    "\n",
    "today = datetime.today().strftime('%Y-%m-%d')\n",
    "\n",
    "header = ['Title', 'Price', 'Date']\n",
    "data = [title, price, today]\n",
    "\n",
    "# Print the current working directory\n",
    "print(\"Current Working Directory:\", os.getcwd())\n",
    "\n",
    "with open('AmazonWebScraperDataset.csv', 'w', newline='', encoding='UTF8') as f:\n",
    "    writer = csv.writer(f)\n",
    "    writer.writerow(header)\n",
    "    writer.writerow(data)\n",
    "\n",
    "\n",
    "print(\"CSV file saved successfully.\")"
   ]
  },
  {
   "cell_type": "code",
   "execution_count": 32,
   "id": "9dad91e4-78c6-46ce-9a28-b61d3c17e53d",
   "metadata": {},
   "outputs": [
    {
     "name": "stdout",
     "output_type": "stream",
     "text": [
      "2024-06-06\n"
     ]
    }
   ],
   "source": [
    "# Create a Timestamp for your output to track when data was collected\n",
    "\n",
    "import datetime\n",
    "\n",
    "today = datetime.date.today()\n",
    "\n",
    "print(today)"
   ]
  },
  {
   "cell_type": "code",
   "execution_count": 36,
   "id": "9498a51f-4139-4949-b133-b9dcc79e0b61",
   "metadata": {},
   "outputs": [
    {
     "name": "stdout",
     "output_type": "stream",
     "text": [
      "                                               Title  \\\n",
      "0  Funny Got Data MIS Data Systems Business Analy...   \n",
      "\n",
      "                                               Price      Date  \n",
      "0  $16.99\\n                   \\n\\n\\n\\n\\n\\n       ...  6/6/2024  \n"
     ]
    }
   ],
   "source": [
    "import pandas as pd\n",
    "import builtins\n",
    "import csv\n",
    "df = pd.read_csv(r'C:\\Users\\uset\\OneDrive\\Documents\\AmazonWebScraperDataset.csv')\n",
    "\n",
    "\n",
    "print(df)\n"
   ]
  },
  {
   "cell_type": "code",
   "execution_count": 35,
   "id": "ba8f8447-44c6-42b9-9d0e-32092f4b1980",
   "metadata": {},
   "outputs": [],
   "source": [
    "# Now we are appending data to the csv\n",
    "with builtins.open('AmazonWebScraperDataset.csv', 'a+', newline='', encoding='UTF8') as f:\n",
    "    writer = csv.writer(f)\n",
    "    writer.writerow(data)\n"
   ]
  },
  {
   "cell_type": "code",
   "execution_count": 37,
   "id": "072806eb-c88b-4f8a-bab7-125938ccb635",
   "metadata": {},
   "outputs": [],
   "source": [
    "    def check_price():\n",
    "        \n",
    "            URL = 'https://www.amazon.com/Funny-Data-Systems-Business-Analyst/dp/B07FNW9FGJ'\n",
    "            \n",
    "            headers = {\"User-Agent\": \"Mozilla/5.0 (Windows NT 10.0; Win64; x64) AppleWebKit/537.36 (KHTML, like Gecko) Chrome/125.0.0.0 Safari/537.36\", \"Accept-Encoding\":\"gzip, deflate\", \"Accept\":\"text/html,application/xhtml+xml,application/xml;q=0.9,*/*;q=0.8\", \"DNT\":\"1\",\"Connection\":\"close\", \"Upgrade-Insecure-Requests\":\"1\"}\n",
    "            \n",
    "            page = requests.get(URL, headers=headers)\n",
    "            \n",
    "            soup1 = BeautifulSoup(page.content, \"html.parser\")\n",
    "            \n",
    "            soup2 = BeautifulSoup(soup1.prettify(), \"html.parser\")\n",
    "            \n",
    "            title = soup2.find(id='productTitle').get_text().strip()\n",
    "            \n",
    "            try:\n",
    "                price = soup2.find(id='corePriceDisplay_desktop_feature_div').get_text().strip()\n",
    "            except AttributeError:\n",
    "                price = \"Price not found\"\n",
    "    \n",
    "    \n",
    "            # Clean up title\n",
    "            title = title.strip()\n",
    "            \n",
    "            # Clean up price\n",
    "            price = price.strip().replace('\\n', '').replace(' ', '').replace('$', '')\n",
    "            \n",
    "            # If the price is split into parts, you can join them together\n",
    "            price = f\"${price}\"\n",
    "            \n",
    "            # Extract the first occurrence of the price using regex\n",
    "            price_match = re.search(r'\\d+\\.\\d+', price)\n",
    "            if price_match:\n",
    "                price = float(price_match.group())\n",
    "                price = f\"${price:.2f}\"\n",
    "            else:\n",
    "                price = \"Price not found\"\n",
    "    \n",
    "            import csv \n",
    "            import os\n",
    "            from datetime import datetime\n",
    "            \n",
    "            \n",
    "            today = datetime.today().strftime('%Y-%m-%d')\n",
    "            \n",
    "            header = ['Title', 'Price', 'Date']\n",
    "            data = [title, price, today]\n",
    "            \n",
    "            # Print the current working directory\n",
    "            print(\"Current Working Directory:\", os.getcwd())\n",
    "            \n",
    "            with open('AmazonWebScraperDataset.csv', 'w', newline='', encoding='UTF8') as f:\n",
    "                writer = csv.writer(f)\n",
    "                writer.writerow(header)\n",
    "                writer.writerow(data)\n",
    "            \n",
    "            \n",
    "            print(\"CSV file saved successfully.\")\n",
    "    \n",
    "            import pandas as pd\n",
    "            import builtins\n",
    "            import csv\n",
    "            df = pd.read_csv(r'C:\\Users\\uset\\OneDrive\\Documents\\AmazonWebScraperDataset.csv')\n",
    "    \n",
    "            # Now we are appending data to the csv\n",
    "            with builtins.open('AmazonWebScraperDataset.csv', 'a+', newline='', encoding='UTF8') as f:\n",
    "                writer = csv.writer(f)\n",
    "                writer.writerow(data)\n",
    "    \n",
    "    \n",
    "    \n",
    "    \n",
    "    \n",
    "    \n",
    "    \n",
    "    \n",
    "    \n",
    "    \n",
    "    \n"
   ]
  },
  {
   "cell_type": "code",
   "execution_count": null,
   "id": "a77b26b1-1976-4f6c-ae8b-09e58dbac1d5",
   "metadata": {},
   "outputs": [],
   "source": [
    "# Runs check_price after a set time and inputs data into your CSV\n",
    "\n",
    "while(True):\n",
    "    check_price()\n",
    "    time.sleep(86400)"
   ]
  },
  {
   "cell_type": "code",
   "execution_count": null,
   "id": "4b6939dc-0928-438e-98f4-14d35349cc89",
   "metadata": {},
   "outputs": [],
   "source": [
    "import pandas as pd\n",
    "import builtins\n",
    "import csv\n",
    "df = pd.read_csv(r'C:\\Users\\uset\\OneDrive\\Documents\\AmazonWebScraperDataset.csv')\n",
    "\n",
    "print(df)\n"
   ]
  },
  {
   "cell_type": "code",
   "execution_count": 40,
   "id": "3d48fa3d-41f7-4bc8-b8e7-0ad2eb1ed9a9",
   "metadata": {},
   "outputs": [],
   "source": [
    "def send_mail():\n",
    "    server = smtplib.SMTP_SSL('smtp.gmail.com',465)\n",
    "    server.ehlo()\n",
    "    #server.starttls()\n",
    "    server.ehlo()\n",
    "    server.login('machogumorghan@gmail.com','Morghan29415')\n",
    "    \n",
    "    subject = \"The Shirt you want is below $15! Now is your chance to buy!\"\n",
    "    body = \"Alex, This is the moment we have been waiting for. Now is your chance to pick up the shirt of your dreams. Don't mess it up! Link here: https://www.amazon.com/Funny-Data-Systems-Business-Analyst/dp/B07FNW9FGJ/ref=sr_1_3?dchild=1&keywords=data+analyst+tshirt&qid=1626655184&sr=8-3\"\n",
    "   \n",
    "    msg = f\"Subject: {subject}\\n\\n{body}\"\n",
    "    \n",
    "    server.sendmail(\n",
    "        'machogumorghan@gmail.com',\n",
    "        msg\n",
    "     \n",
    "    )"
   ]
  },
  {
   "cell_type": "code",
   "execution_count": null,
   "id": "6fa70777-0344-4ef2-b23c-5f3dbda892ee",
   "metadata": {},
   "outputs": [],
   "source": []
  },
  {
   "cell_type": "code",
   "execution_count": null,
   "id": "a896d8c7-2597-4584-96ed-fba52c30a04a",
   "metadata": {},
   "outputs": [],
   "source": []
  },
  {
   "cell_type": "code",
   "execution_count": null,
   "id": "fb2b69dc-7e25-4a5a-b01d-f9bf0c24ba12",
   "metadata": {},
   "outputs": [],
   "source": []
  },
  {
   "cell_type": "code",
   "execution_count": null,
   "id": "e7294530-0d2d-4560-b7a7-0b49450f7cf4",
   "metadata": {},
   "outputs": [],
   "source": []
  },
  {
   "cell_type": "code",
   "execution_count": null,
   "id": "159aa319-75c3-487f-b437-acfbbc575290",
   "metadata": {},
   "outputs": [],
   "source": []
  },
  {
   "cell_type": "code",
   "execution_count": null,
   "id": "d546626c-db80-4176-9b3a-223c0416ec2a",
   "metadata": {},
   "outputs": [],
   "source": []
  },
  {
   "cell_type": "code",
   "execution_count": null,
   "id": "b972583b-26bd-4b22-8530-44d58be27330",
   "metadata": {},
   "outputs": [],
   "source": []
  },
  {
   "cell_type": "code",
   "execution_count": null,
   "id": "77a0f1d3-a253-498a-a6da-8061c7b0e1cc",
   "metadata": {},
   "outputs": [],
   "source": []
  },
  {
   "cell_type": "code",
   "execution_count": null,
   "id": "5422763e-7730-42f7-a4e5-12917451ba89",
   "metadata": {},
   "outputs": [],
   "source": []
  },
  {
   "cell_type": "code",
   "execution_count": null,
   "id": "1475e040-b0b9-4e32-ac00-2c2c523f4bad",
   "metadata": {},
   "outputs": [],
   "source": []
  },
  {
   "cell_type": "code",
   "execution_count": null,
   "id": "ae83d3d8-3d60-4cd7-b04b-f0c51e2b39b5",
   "metadata": {},
   "outputs": [],
   "source": []
  },
  {
   "cell_type": "code",
   "execution_count": null,
   "id": "a4b37097-4a3c-49ac-8423-0e158f9b9f34",
   "metadata": {},
   "outputs": [],
   "source": []
  },
  {
   "cell_type": "code",
   "execution_count": null,
   "id": "a9c9c041-3eb5-4c93-95d0-03eb895e2515",
   "metadata": {},
   "outputs": [],
   "source": []
  },
  {
   "cell_type": "code",
   "execution_count": null,
   "id": "22ca0405-675f-4230-957a-853b02027e0a",
   "metadata": {},
   "outputs": [],
   "source": []
  },
  {
   "cell_type": "code",
   "execution_count": null,
   "id": "542de75c-7037-4cf3-9f8a-3ea1b07d55a9",
   "metadata": {},
   "outputs": [],
   "source": []
  },
  {
   "cell_type": "code",
   "execution_count": null,
   "id": "d108c6a0-842f-4ca4-b5b8-46e3c9238412",
   "metadata": {},
   "outputs": [],
   "source": []
  },
  {
   "cell_type": "code",
   "execution_count": null,
   "id": "0a0df3e5-d83f-4142-89e0-98845d940428",
   "metadata": {},
   "outputs": [],
   "source": []
  },
  {
   "cell_type": "code",
   "execution_count": null,
   "id": "d0dcce7e-01cd-4796-8b1a-cc9936234de3",
   "metadata": {},
   "outputs": [],
   "source": []
  },
  {
   "cell_type": "code",
   "execution_count": null,
   "id": "e017651a-5983-4bff-97b1-24e23c75471e",
   "metadata": {},
   "outputs": [],
   "source": []
  }
 ],
 "metadata": {
  "kernelspec": {
   "display_name": "Python 3 (ipykernel)",
   "language": "python",
   "name": "python3"
  },
  "language_info": {
   "codemirror_mode": {
    "name": "ipython",
    "version": 3
   },
   "file_extension": ".py",
   "mimetype": "text/x-python",
   "name": "python",
   "nbconvert_exporter": "python",
   "pygments_lexer": "ipython3",
   "version": "3.11.7"
  }
 },
 "nbformat": 4,
 "nbformat_minor": 5
}
